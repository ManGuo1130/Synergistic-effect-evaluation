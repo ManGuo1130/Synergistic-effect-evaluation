{
  "nbformat": 4,
  "nbformat_minor": 0,
  "metadata": {
    "colab": {
      "provenance": [],
      "collapsed_sections": [
        "bXZVYa3VRJcW",
        "wflPodzTRUlH",
        "EjoU3D20S0Ba",
        "IZjhu_6XT-CE",
        "LVBlmIBNUHTd"
      ],
      "toc_visible": true,
      "authorship_tag": "ABX9TyOcklkdbheGTBNpktIxxo/p",
      "include_colab_link": true
    },
    "kernelspec": {
      "name": "python3",
      "display_name": "Python 3"
    },
    "language_info": {
      "name": "python"
    }
  },
  "cells": [
    {
      "cell_type": "markdown",
      "metadata": {
        "id": "view-in-github",
        "colab_type": "text"
      },
      "source": [
        "<a href=\"https://colab.research.google.com/github/ManGuo1130/Synergistic-effect-evaluation/blob/main/R_GCN.ipynb\" target=\"_parent\"><img src=\"https://colab.research.google.com/assets/colab-badge.svg\" alt=\"Open In Colab\"/></a>"
      ]
    },
    {
      "cell_type": "code",
      "execution_count": 3,
      "metadata": {
        "colab": {
          "base_uri": "https://localhost:8080/"
        },
        "collapsed": true,
        "id": "C_O5RcP6NDFa",
        "outputId": "3bd4e543-a868-456b-cc0d-8afcc5532221"
      },
      "outputs": [
        {
          "output_type": "stream",
          "name": "stdout",
          "text": [
            "Requirement already satisfied: torch in /usr/local/lib/python3.10/dist-packages (2.5.1+cu121)\n",
            "Requirement already satisfied: torch-geometric in /usr/local/lib/python3.10/dist-packages (2.3.0)\n",
            "Requirement already satisfied: pandas in /usr/local/lib/python3.10/dist-packages (2.2.2)\n",
            "Requirement already satisfied: scikit-learn in /usr/local/lib/python3.10/dist-packages (1.6.0)\n",
            "Requirement already satisfied: filelock in /usr/local/lib/python3.10/dist-packages (from torch) (3.16.1)\n",
            "Requirement already satisfied: typing-extensions>=4.8.0 in /usr/local/lib/python3.10/dist-packages (from torch) (4.12.2)\n",
            "Requirement already satisfied: networkx in /usr/local/lib/python3.10/dist-packages (from torch) (3.4.2)\n",
            "Requirement already satisfied: jinja2 in /usr/local/lib/python3.10/dist-packages (from torch) (3.1.4)\n",
            "Requirement already satisfied: fsspec in /usr/local/lib/python3.10/dist-packages (from torch) (2024.10.0)\n",
            "Requirement already satisfied: sympy==1.13.1 in /usr/local/lib/python3.10/dist-packages (from torch) (1.13.1)\n",
            "Requirement already satisfied: mpmath<1.4,>=1.1.0 in /usr/local/lib/python3.10/dist-packages (from sympy==1.13.1->torch) (1.3.0)\n",
            "Requirement already satisfied: tqdm in /usr/local/lib/python3.10/dist-packages (from torch-geometric) (4.67.1)\n",
            "Requirement already satisfied: numpy in /usr/local/lib/python3.10/dist-packages (from torch-geometric) (1.26.4)\n",
            "Requirement already satisfied: scipy in /usr/local/lib/python3.10/dist-packages (from torch-geometric) (1.13.1)\n",
            "Requirement already satisfied: requests in /usr/local/lib/python3.10/dist-packages (from torch-geometric) (2.32.3)\n",
            "Requirement already satisfied: pyparsing in /usr/local/lib/python3.10/dist-packages (from torch-geometric) (3.2.0)\n",
            "Requirement already satisfied: psutil>=5.8.0 in /usr/local/lib/python3.10/dist-packages (from torch-geometric) (5.9.5)\n",
            "Requirement already satisfied: python-dateutil>=2.8.2 in /usr/local/lib/python3.10/dist-packages (from pandas) (2.8.2)\n",
            "Requirement already satisfied: pytz>=2020.1 in /usr/local/lib/python3.10/dist-packages (from pandas) (2024.2)\n",
            "Requirement already satisfied: tzdata>=2022.7 in /usr/local/lib/python3.10/dist-packages (from pandas) (2024.2)\n",
            "Requirement already satisfied: joblib>=1.2.0 in /usr/local/lib/python3.10/dist-packages (from scikit-learn) (1.4.2)\n",
            "Requirement already satisfied: threadpoolctl>=3.1.0 in /usr/local/lib/python3.10/dist-packages (from scikit-learn) (3.5.0)\n",
            "Requirement already satisfied: six>=1.5 in /usr/local/lib/python3.10/dist-packages (from python-dateutil>=2.8.2->pandas) (1.17.0)\n",
            "Requirement already satisfied: MarkupSafe>=2.0 in /usr/local/lib/python3.10/dist-packages (from jinja2->torch) (3.0.2)\n",
            "Requirement already satisfied: charset-normalizer<4,>=2 in /usr/local/lib/python3.10/dist-packages (from requests->torch-geometric) (3.4.0)\n",
            "Requirement already satisfied: idna<4,>=2.5 in /usr/local/lib/python3.10/dist-packages (from requests->torch-geometric) (3.10)\n",
            "Requirement already satisfied: urllib3<3,>=1.21.1 in /usr/local/lib/python3.10/dist-packages (from requests->torch-geometric) (2.2.3)\n",
            "Requirement already satisfied: certifi>=2017.4.17 in /usr/local/lib/python3.10/dist-packages (from requests->torch-geometric) (2024.12.14)\n"
          ]
        }
      ],
      "source": [
        "pip install torch torch-geometric pandas scikit-learn"
      ]
    },
    {
      "cell_type": "markdown",
      "source": [
        "# 数据准备"
      ],
      "metadata": {
        "id": "dBPzNY86OAd2"
      }
    },
    {
      "cell_type": "markdown",
      "source": [
        "##处理节点数据"
      ],
      "metadata": {
        "id": "bXZVYa3VRJcW"
      }
    },
    {
      "cell_type": "code",
      "source": [
        "import pandas as pd\n",
        "import torch\n",
        "from sklearn.preprocessing import LabelEncoder, StandardScaler\n",
        "from torch_geometric.data import Data\n",
        "import torch.nn.functional as F\n",
        "from torch_geometric.nn import RGCNConv\n",
        "import torch.optim as optim\n",
        "import matplotlib.pyplot as plt\n",
        "from sklearn.metrics import mean_squared_error, r2_score\n",
        "import numpy as np\n",
        "\n",
        "# 加载节点特征\n",
        "node_features = pd.read_csv(\"/content/node_features.csv\")\n",
        "weights_all = pd.read_csv(\"/content/weights_all.csv\")\n",
        "\n",
        "# 查看数据结构\n",
        "print(node_features.head())\n",
        "print(weights_all.head())"
      ],
      "metadata": {
        "colab": {
          "base_uri": "https://localhost:8080/"
        },
        "id": "dbMzjJ7CN3Jf",
        "outputId": "d7e3aa15-73a6-48c8-bda7-62e2ef09d80f"
      },
      "execution_count": 4,
      "outputs": [
        {
          "output_type": "stream",
          "name": "stdout",
          "text": [
            "   Unnamed: 0   地市        lat         lon       协同度  常住人口  城市建设用地占市区.面积比重  \\\n",
            "0           1  安庆市  30.576049  116.486728  0.549207   417           15.68   \n",
            "1           2  常州市  31.625341  119.637182  0.784272   528            9.62   \n",
            "2           3  池州市  30.284429  117.365321  0.660851   134            1.61   \n",
            "3           4  滁州市  32.544120  118.102548  0.739916   399            6.55   \n",
            "4           5  杭州市  29.900238  119.469934  0.729286  1197            7.38   \n",
            "\n",
            "   地区生产总值  人均地区生产总值  第二产业占地区生产总值的比重  第三产业占地区生产总值的比重  工业企业数  专利授权数  绿化覆盖率  \\\n",
            "0    2468     58684           43.23           47.04   1644   5479  39.49   \n",
            "1    7805    147939           46.33           51.57   5065  41321  43.30   \n",
            "2     869     64843           44.07           45.80    539   2374  46.13   \n",
            "3    3032     76087           48.75           42.28   1870   8654  42.30   \n",
            "4   16106    136617           29.93           68.04   5992  92399  43.36   \n",
            "\n",
            "   OBJECTID  \n",
            "0         1  \n",
            "1         2  \n",
            "2         3  \n",
            "3         4  \n",
            "4         5  \n",
            "   Unnamed: 0  from  to relation   weights\n",
            "0           1     1   3      pop  0.273386\n",
            "1           2     1   4      pop  0.011664\n",
            "2           3     1   5      pop  0.000000\n",
            "3           4     1   6      pop  0.173853\n",
            "4           5     1  10      pop  0.075575\n"
          ]
        }
      ]
    },
    {
      "cell_type": "code",
      "source": [
        "# 编码节点ID为整数索引\n",
        "le = LabelEncoder()\n",
        "node_features['ID_encoded'] = le.fit_transform(node_features['OBJECTID'])\n",
        "\n",
        "# 创建ID到索引的映射\n",
        "id_to_index = {id_: idx for idx, id_ in enumerate(node_features['OBJECTID'])}"
      ],
      "metadata": {
        "id": "QNkTyYUlOaj1"
      },
      "execution_count": 5,
      "outputs": []
    },
    {
      "cell_type": "code",
      "source": [
        "print(id_to_index)"
      ],
      "metadata": {
        "colab": {
          "base_uri": "https://localhost:8080/"
        },
        "id": "voY6c3bxPJDO",
        "outputId": "546aff43-b363-4c52-a208-c973349cd430"
      },
      "execution_count": 6,
      "outputs": [
        {
          "output_type": "stream",
          "name": "stdout",
          "text": [
            "{1: 0, 2: 1, 3: 2, 4: 3, 5: 4, 6: 5, 7: 6, 8: 7, 9: 8, 10: 9, 11: 10, 12: 11, 13: 12, 14: 13, 15: 14, 16: 15, 17: 16, 18: 17, 19: 18, 20: 19, 21: 20, 22: 21, 23: 22, 24: 23, 25: 24, 26: 25, 27: 26}\n"
          ]
        }
      ]
    },
    {
      "cell_type": "code",
      "source": [
        "# 准备节点特征矩阵\n",
        "feature_columns = [\n",
        "    '常住人口', '城市建设用地占市区.面积比重', '地区生产总值',\n",
        "    '人均地区生产总值', '第二产业占地区生产总值的比重',\n",
        "    '第三产业占地区生产总值的比重', '工业企业数', '专利授权数',\n",
        "    '绿化覆盖率'\n",
        "]"
      ],
      "metadata": {
        "id": "uCMQdSGyP1dE"
      },
      "execution_count": 7,
      "outputs": []
    },
    {
      "cell_type": "code",
      "source": [
        "X = node_features[feature_columns].values\n",
        "scaler = StandardScaler()\n",
        "X = scaler.fit_transform(X)\n",
        "X = torch.tensor(X, dtype=torch.float)"
      ],
      "metadata": {
        "id": "rsUo-C4WQAee"
      },
      "execution_count": 8,
      "outputs": []
    },
    {
      "cell_type": "code",
      "source": [
        "print(X)"
      ],
      "metadata": {
        "colab": {
          "base_uri": "https://localhost:8080/"
        },
        "id": "oBATwlEeQk58",
        "outputId": "c57ee2a0-d877-4b99-ae61-8a8042b47228"
      },
      "execution_count": 9,
      "outputs": [
        {
          "output_type": "stream",
          "name": "stdout",
          "text": [
            "tensor([[-0.4836,  0.5847, -0.6946, -1.5759, -0.0449, -0.6489, -0.8534, -0.9024,\n",
            "         -1.5415],\n",
            "        [-0.2507, -0.2169, -0.0059,  1.1647,  0.4802, -0.0193,  0.3622,  0.0792,\n",
            "          0.1763],\n",
            "        [-1.0775, -1.2764, -0.9010, -1.3868,  0.0974, -0.8213, -1.2461, -0.9874,\n",
            "          1.4523],\n",
            "        [-0.5214, -0.6230, -0.6219, -1.0415,  0.8901, -1.3106, -0.7731, -0.8154,\n",
            "         -0.2745],\n",
            "        [ 1.1533, -0.5132,  1.0653,  0.8171, -2.2975,  2.2701,  0.6916,  1.4780,\n",
            "          0.2034],\n",
            "        [ 0.6077,  3.0939,  0.2833, -0.0485, -1.3304,  1.2999, -0.6736,  0.0719,\n",
            "         -0.4143],\n",
            "        [-0.6515, -0.4325, -0.6001, -0.4430,  1.0357, -0.7907, -0.0902, -0.5674,\n",
            "          1.5425],\n",
            "        [-0.2234,  0.3069, -0.3021, -0.2293,  1.4270, -0.8171,  0.8238, -0.0949,\n",
            "         -0.8967],\n",
            "        [ 0.1229, -0.7923, -0.4061, -1.3105, -0.8358,  0.8884,  0.2073,  0.1100,\n",
            "         -0.6172],\n",
            "        [-0.9054,  0.2064, -0.7309, -0.2762,  0.7343, -0.5641, -1.0347, -0.8380,\n",
            "          1.5199],\n",
            "        [ 0.5972,  0.1217,  0.8990,  1.5142, -1.4066,  1.5431, -0.2895,  1.0377,\n",
            "          0.8030],\n",
            "        [ 0.2635, -0.0185,  0.2820,  0.6108,  0.6767, -0.5238,  0.4688, -0.2127,\n",
            "          0.1763],\n",
            "        [ 0.6181, -0.0820,  0.5882,  0.6942,  0.4057, -0.0457,  1.6080,  0.6050,\n",
            "         -0.3061],\n",
            "        [ 3.8626,  2.4722,  3.9810,  1.4061, -2.8632,  2.9804,  1.6908,  2.7756,\n",
            "         -2.5199],\n",
            "        [-0.2486, -0.4007, -0.2387,  0.1148,  0.2871, -0.0762,  0.1831, -0.0782,\n",
            "          0.5461],\n",
            "        [ 1.3170, -0.1362,  1.5897,  1.4880,  0.5141,  0.1086,  2.7909,  2.7504,\n",
            "          0.0862],\n",
            "        [ 0.0326, -0.4259, -0.3340, -0.9248,  0.0280, -0.1360,  0.2009, -0.0986,\n",
            "          0.4424],\n",
            "        [-0.4102, -0.3002, -0.3275,  0.2314,  0.7343, -0.7379, -0.4210, -0.4948,\n",
            "         -0.1528],\n",
            "        [-1.0838, -0.8452, -0.8836, -1.0519,  0.3261, -0.3765, -1.2624, -0.9872,\n",
            "          1.1998],\n",
            "        [ 0.6538,  1.4895, -0.1265, -1.1742, -0.3802,  0.6563,  0.9517,  0.3771,\n",
            "         -2.2809],\n",
            "        [ 0.2068,  0.9246,  0.5831,  1.7147,  0.5073,  0.1058,  1.0519,  0.6099,\n",
            "          0.2350],\n",
            "        [-0.5927,  0.0900, -0.5288, -0.2163,  0.6987, -0.5058, -0.8062, -0.6902,\n",
            "         -0.8562],\n",
            "        [-0.8341, -1.1719, -0.8057, -1.4034,  0.6225, -1.2453, -0.8790, -0.9067,\n",
            "         -0.4008],\n",
            "        [ 0.0494, -1.0687, -0.2449, -0.6533, -0.5987, -0.3862, -0.3222, -0.4627,\n",
            "          0.3116],\n",
            "        [-0.4018, -0.4867, -0.2327,  0.6994,  0.4345, -0.3960, -0.3577, -0.2723,\n",
            "          0.7940],\n",
            "        [-0.6851,  0.2739, -0.4686,  0.6624,  0.6157, -0.3334, -0.7230, -0.5098,\n",
            "          0.2124],\n",
            "        [-1.1153, -0.7738, -0.8180,  0.6179, -0.7579, -0.1179, -1.2987, -0.9756,\n",
            "          0.5596]])\n"
          ]
        }
      ]
    },
    {
      "cell_type": "code",
      "source": [
        "# 准备目标变量（协同度）\n",
        "y = torch.tensor(node_features['协同度'].values, dtype=torch.float).unsqueeze(1)\n",
        "\n",
        "print(y)"
      ],
      "metadata": {
        "colab": {
          "base_uri": "https://localhost:8080/"
        },
        "id": "FDeSb5i8Q9a5",
        "outputId": "e0bdf06f-0857-4b17-c824-d24d0b93582b"
      },
      "execution_count": 10,
      "outputs": [
        {
          "output_type": "stream",
          "name": "stdout",
          "text": [
            "tensor([[0.5492],\n",
            "        [0.7843],\n",
            "        [0.6609],\n",
            "        [0.7399],\n",
            "        [0.7293],\n",
            "        [0.6852],\n",
            "        [0.7373],\n",
            "        [0.7180],\n",
            "        [0.7326],\n",
            "        [0.7303],\n",
            "        [0.8068],\n",
            "        [0.7315],\n",
            "        [0.7429],\n",
            "        [0.8088],\n",
            "        [0.7640],\n",
            "        [0.7647],\n",
            "        [0.7240],\n",
            "        [0.7559],\n",
            "        [0.7059],\n",
            "        [0.6741],\n",
            "        [0.7913],\n",
            "        [0.7221],\n",
            "        [0.7767],\n",
            "        [0.7872],\n",
            "        [0.7936],\n",
            "        [0.7640],\n",
            "        [0.8117]])\n"
          ]
        }
      ]
    },
    {
      "cell_type": "markdown",
      "source": [
        "## 构建图数据结果"
      ],
      "metadata": {
        "id": "wflPodzTRUlH"
      }
    },
    {
      "cell_type": "code",
      "source": [
        "# 映射ID到索引\n",
        "weights_all['from_idx'] = weights_all['from'].map(id_to_index)\n",
        "weights_all['to_idx'] = weights_all['to'].map(id_to_index)"
      ],
      "metadata": {
        "id": "b_ghzhxxRZFr"
      },
      "execution_count": 16,
      "outputs": []
    },
    {
      "cell_type": "code",
      "source": [
        "# 处理关系类型\n",
        "relation_le = LabelEncoder()\n",
        "weights_all['relation_encoded'] = relation_le.fit_transform(weights_all['relation'])"
      ],
      "metadata": {
        "id": "uLJz6b51Rrl-"
      },
      "execution_count": 17,
      "outputs": []
    },
    {
      "cell_type": "code",
      "source": [
        "# 准备边索引和边类型\n",
        "edge_index = torch.tensor(weights_all[['from_idx', 'to_idx']].values, dtype=torch.long).t().contiguous()\n",
        "edge_type = torch.tensor(weights_all['relation_encoded'].values, dtype=torch.long)"
      ],
      "metadata": {
        "id": "34NIWAB2R2kt"
      },
      "execution_count": 18,
      "outputs": []
    },
    {
      "cell_type": "code",
      "source": [
        "# 准备边权重\n",
        "edge_weight = torch.tensor(weights_all['weights'].values, dtype=torch.float)"
      ],
      "metadata": {
        "id": "h63lDzr9R72M"
      },
      "execution_count": 19,
      "outputs": []
    },
    {
      "cell_type": "code",
      "source": [
        "# 创建图数据对象\n",
        "data = Data(x=X, edge_index=edge_index, edge_type=edge_type, edge_attr=edge_weight, y=y)\n",
        "\n",
        "print(data)"
      ],
      "metadata": {
        "colab": {
          "base_uri": "https://localhost:8080/"
        },
        "id": "QrUYDOvpSTKj",
        "outputId": "02e7ead6-0c38-4780-ed39-9140901419a7"
      },
      "execution_count": 20,
      "outputs": [
        {
          "output_type": "stream",
          "name": "stdout",
          "text": [
            "Data(x=[27, 9], edge_index=[2, 4509], edge_attr=[4509], y=[27, 1], edge_type=[4509])\n"
          ]
        }
      ]
    },
    {
      "cell_type": "markdown",
      "source": [
        "# 定义R-GCN模型"
      ],
      "metadata": {
        "id": "EjoU3D20S0Ba"
      }
    },
    {
      "cell_type": "code",
      "source": [
        "import torch.nn.functional as F\n",
        "from torch_geometric.nn import RGCNConv"
      ],
      "metadata": {
        "id": "2-FRvrLvTO90"
      },
      "execution_count": 21,
      "outputs": []
    },
    {
      "cell_type": "code",
      "source": [
        "class RGCN(torch.nn.Module):\n",
        "    def __init__(self, in_channels, hidden_channels, out_channels, num_relations):\n",
        "        super(RGCN, self).__init__()\n",
        "        self.conv1 = RGCNConv(in_channels, hidden_channels, num_relations)\n",
        "        self.conv2 = RGCNConv(hidden_channels, out_channels, num_relations)\n",
        "\n",
        "    def forward(self, data):\n",
        "        x, edge_index, edge_type = data.x, data.edge_index, data.edge_type\n",
        "        x = self.conv1(x, edge_index, edge_type)\n",
        "        x = F.relu(x)\n",
        "        x = self.conv2(x, edge_index, edge_type)\n",
        "        return x"
      ],
      "metadata": {
        "id": "V08iuVNuTRod"
      },
      "execution_count": 22,
      "outputs": []
    },
    {
      "cell_type": "code",
      "source": [
        "# 模型参数\n",
        "in_channels = X.shape[1]\n",
        "hidden_channels = 16\n",
        "out_channels = 1  # 预测协同度\n",
        "num_relations = len(relation_le.classes_)\n",
        "\n",
        "# 实例化模型\n",
        "model = RGCN(in_channels, hidden_channels, out_channels, num_relations)"
      ],
      "metadata": {
        "id": "JUC33i_WTi3l"
      },
      "execution_count": 23,
      "outputs": []
    },
    {
      "cell_type": "markdown",
      "source": [
        "in_channels = X.shape[1]\n",
        "\n",
        "确定输入特征的维度。\n",
        "X 是之前准备好的节点特征张量，形状为 [num_nodes, num_features]。\n",
        "X.shape[1] 获取特征的维度，即num_features，作为in_channels。\n",
        "hidden_channels = 16\n",
        "\n",
        "设置隐藏层的特征维度为16。\n",
        "这是一个经验性选择，可以根据数据和模型表现进行调整。\n",
        "out_channels = 1 # 预测协同度\n",
        "\n",
        "设置输出层的特征维度为1，用于回归任务中预测每个节点的协同度。\n",
        "num_relations = len(relation_le.classes_)\n",
        "\n",
        "确定关系类型的数量。\n",
        "relation_le 是之前定义并拟合的LabelEncoder对象，用于编码边的关系类型。\n",
        "relation_le.classes_ 返回所有的关系类型，每种关系类型对应一个唯一的类别。\n",
        "len(relation_le.classes_) 计算关系类型的总数，作为RGCNConv层中num_relations的参数。\n",
        "model = RGCN(in_channels, hidden_channels, out_channels, num_relations)\n",
        "\n",
        "使用之前定义的RGCN类实例化一个R-GCN模型对象。\n",
        "参数解释：\n",
        "in_channels: 输入特征维度，从节点特征矩阵X中获取。\n",
        "hidden_channels: 隐藏层的特征维度，设置为16。\n",
        "out_channels: 输出特征维度，设置为1，用于回归任务。\n",
        "num_relations: 关系类型的数量，确保模型能区分不同类型的边。"
      ],
      "metadata": {
        "id": "ukGegACpTt34"
      }
    },
    {
      "cell_type": "code",
      "source": [
        "# 定义损失函数和优化器\n",
        "criterion = torch.nn.MSELoss()\n",
        "optimizer = optim.Adam(model.parameters(), lr=0.01)"
      ],
      "metadata": {
        "id": "dpCYqthsZThd"
      },
      "execution_count": 24,
      "outputs": []
    },
    {
      "cell_type": "markdown",
      "source": [
        "# 训练模型"
      ],
      "metadata": {
        "id": "IZjhu_6XT-CE"
      }
    },
    {
      "cell_type": "markdown",
      "source": [
        "## 数据集划分"
      ],
      "metadata": {
        "id": "oGECPB4SZgu2"
      }
    },
    {
      "cell_type": "code",
      "source": [
        "# 设置随机种子以确保可重复性\n",
        "torch.manual_seed(42)\n",
        "np.random.seed(42)\n",
        "\n",
        "# 获取节点数量\n",
        "num_nodes = data.num_nodes\n",
        "\n",
        "# 定义划分比例\n",
        "train_ratio = 0.7\n",
        "val_ratio = 0.15\n",
        "test_ratio = 0.15"
      ],
      "metadata": {
        "id": "4jgBfZ6PZY7J"
      },
      "execution_count": 25,
      "outputs": []
    },
    {
      "cell_type": "code",
      "source": [
        "# 确认比例总和为1\n",
        "assert train_ratio + val_ratio + test_ratio == 1.0, \"划分比例之和必须为1.0\""
      ],
      "metadata": {
        "id": "AsP18G-QZrZk"
      },
      "execution_count": 26,
      "outputs": []
    },
    {
      "cell_type": "code",
      "source": [
        "train_ratio + val_ratio + test_ratio"
      ],
      "metadata": {
        "colab": {
          "base_uri": "https://localhost:8080/"
        },
        "id": "S-ScMd64Zvkn",
        "outputId": "11228499-24ee-4fe7-e122-2e658faf0b17"
      },
      "execution_count": 27,
      "outputs": [
        {
          "output_type": "execute_result",
          "data": {
            "text/plain": [
              "1.0"
            ]
          },
          "metadata": {},
          "execution_count": 27
        }
      ]
    },
    {
      "cell_type": "code",
      "source": [
        "# 生成随机索引\n",
        "indices = np.random.permutation(num_nodes)\n",
        "train_size = int(train_ratio * num_nodes)\n",
        "val_size = int(val_ratio * num_nodes)\n",
        "\n",
        "train_indices = indices[:train_size]\n",
        "val_indices = indices[train_size:train_size + val_size]\n",
        "test_indices = indices[train_size + val_size:]\n",
        "\n",
        "# 创建掩码\n",
        "train_mask = torch.zeros(num_nodes, dtype=torch.bool)\n",
        "val_mask = torch.zeros(num_nodes, dtype=torch.bool)\n",
        "test_mask = torch.zeros(num_nodes, dtype=torch.bool)\n",
        "\n",
        "train_mask[train_indices] = True\n",
        "val_mask[val_indices] = True\n",
        "test_mask[test_indices] = True\n",
        "\n",
        "# 将掩码添加到数据对象中\n",
        "data.train_mask = train_mask\n",
        "data.val_mask = val_mask\n",
        "data.test_mask = test_mask\n",
        "\n",
        "print(f\"训练集节点数: {train_mask.sum().item()}\")\n",
        "print(f\"验证集节点数: {val_mask.sum().item()}\")\n",
        "print(f\"测试集节点数: {test_mask.sum().item()}\")"
      ],
      "metadata": {
        "colab": {
          "base_uri": "https://localhost:8080/"
        },
        "id": "yzN_7HzrZ1KA",
        "outputId": "5dc11444-037b-4aba-e679-f1530c8b5ab2"
      },
      "execution_count": 28,
      "outputs": [
        {
          "output_type": "stream",
          "name": "stdout",
          "text": [
            "训练集节点数: 18\n",
            "验证集节点数: 4\n",
            "测试集节点数: 5\n"
          ]
        }
      ]
    },
    {
      "cell_type": "code",
      "source": [
        "def train(model, data, optimizer, criterion, epochs=100):\n",
        "    best_val_loss = float('inf')\n",
        "    best_model_state = None\n",
        "\n",
        "    for epoch in range(1, epochs + 1):\n",
        "        model.train()\n",
        "        optimizer.zero_grad()\n",
        "\n",
        "        # 前向传播\n",
        "        out = model(data)\n",
        "\n",
        "        # 仅计算训练集的损失\n",
        "        loss = criterion(out[data.train_mask], data.y[data.train_mask])\n",
        "\n",
        "        # 反向传播\n",
        "        loss.backward()\n",
        "        optimizer.step()\n",
        "\n",
        "        # 计算验证集损失\n",
        "        model.eval()\n",
        "        with torch.no_grad():\n",
        "            val_out = model(data)\n",
        "            val_loss = criterion(val_out[data.val_mask], data.y[data.val_mask])\n",
        "\n",
        "        if epoch % 10 == 0 or epoch == 1:\n",
        "            print(f'Epoch {epoch}, Train Loss: {loss.item():.4f}, Val Loss: {val_loss.item():.4f}')\n",
        "\n",
        "        # 保存最佳模型\n",
        "        if val_loss.item() < best_val_loss:\n",
        "            best_val_loss = val_loss.item()\n",
        "            best_model_state = model.state_dict().copy()\n",
        "            torch.save(best_model_state, 'best_rgcn_model.pth')\n",
        "            print(f'最佳模型参数已保存 (Val Loss: {best_val_loss:.4f})')\n",
        "\n",
        "    print(\"训练完成。\")"
      ],
      "metadata": {
        "id": "sSs1VuJ6Tmr1"
      },
      "execution_count": 29,
      "outputs": []
    },
    {
      "cell_type": "code",
      "source": [
        "train(model, data, optimizer, criterion, epochs=500)"
      ],
      "metadata": {
        "colab": {
          "base_uri": "https://localhost:8080/"
        },
        "id": "ph88t_tYaAiL",
        "outputId": "73fecc1f-2354-44b6-db4b-e7a2da187248"
      },
      "execution_count": 30,
      "outputs": [
        {
          "output_type": "stream",
          "name": "stdout",
          "text": [
            "Epoch 1, Train Loss: 11.8320, Val Loss: 7.4189\n",
            "最佳模型参数已保存 (Val Loss: 7.4189)\n",
            "最佳模型参数已保存 (Val Loss: 3.2789)\n",
            "最佳模型参数已保存 (Val Loss: 1.1806)\n",
            "最佳模型参数已保存 (Val Loss: 0.4873)\n",
            "Epoch 10, Train Loss: 1.1423, Val Loss: 0.5812\n",
            "最佳模型参数已保存 (Val Loss: 0.3891)\n",
            "最佳模型参数已保存 (Val Loss: 0.3007)\n",
            "Epoch 20, Train Loss: 0.2859, Val Loss: 0.5700\n",
            "最佳模型参数已保存 (Val Loss: 0.2761)\n",
            "最佳模型参数已保存 (Val Loss: 0.2505)\n",
            "最佳模型参数已保存 (Val Loss: 0.2449)\n",
            "Epoch 30, Train Loss: 0.0875, Val Loss: 0.3090\n",
            "Epoch 40, Train Loss: 0.0466, Val Loss: 0.3712\n",
            "Epoch 50, Train Loss: 0.0176, Val Loss: 0.3454\n",
            "Epoch 60, Train Loss: 0.0049, Val Loss: 0.3602\n",
            "Epoch 70, Train Loss: 0.0017, Val Loss: 0.3763\n",
            "Epoch 80, Train Loss: 0.0009, Val Loss: 0.3530\n",
            "Epoch 90, Train Loss: 0.0004, Val Loss: 0.3628\n",
            "Epoch 100, Train Loss: 0.0001, Val Loss: 0.3484\n",
            "Epoch 110, Train Loss: 0.0000, Val Loss: 0.3442\n",
            "Epoch 120, Train Loss: 0.0000, Val Loss: 0.3415\n",
            "Epoch 130, Train Loss: 0.0000, Val Loss: 0.3404\n",
            "Epoch 140, Train Loss: 0.0000, Val Loss: 0.3390\n",
            "Epoch 150, Train Loss: 0.0000, Val Loss: 0.3394\n",
            "Epoch 160, Train Loss: 0.0000, Val Loss: 0.3394\n",
            "Epoch 170, Train Loss: 0.0000, Val Loss: 0.3396\n",
            "Epoch 180, Train Loss: 0.0000, Val Loss: 0.3395\n",
            "Epoch 190, Train Loss: 0.0000, Val Loss: 0.3396\n",
            "Epoch 200, Train Loss: 0.0000, Val Loss: 0.3396\n",
            "Epoch 210, Train Loss: 0.0000, Val Loss: 0.3396\n",
            "Epoch 220, Train Loss: 0.0000, Val Loss: 0.3396\n",
            "Epoch 230, Train Loss: 0.0000, Val Loss: 0.3396\n",
            "Epoch 240, Train Loss: 0.0000, Val Loss: 0.3396\n",
            "Epoch 250, Train Loss: 0.0000, Val Loss: 0.3396\n",
            "Epoch 260, Train Loss: 0.0000, Val Loss: 0.3396\n",
            "Epoch 270, Train Loss: 0.0000, Val Loss: 0.3396\n",
            "Epoch 280, Train Loss: 0.0000, Val Loss: 0.3396\n",
            "Epoch 290, Train Loss: 0.0000, Val Loss: 0.3396\n",
            "Epoch 300, Train Loss: 0.0000, Val Loss: 0.3396\n",
            "Epoch 310, Train Loss: 0.0000, Val Loss: 0.3396\n",
            "Epoch 320, Train Loss: 0.0000, Val Loss: 0.3396\n",
            "Epoch 330, Train Loss: 0.0000, Val Loss: 0.3396\n",
            "Epoch 340, Train Loss: 0.0000, Val Loss: 0.3396\n",
            "Epoch 350, Train Loss: 0.0000, Val Loss: 0.3396\n",
            "Epoch 360, Train Loss: 0.0000, Val Loss: 0.3396\n",
            "Epoch 370, Train Loss: 0.0000, Val Loss: 0.3396\n",
            "Epoch 380, Train Loss: 0.0000, Val Loss: 0.3396\n",
            "Epoch 390, Train Loss: 0.0000, Val Loss: 0.3396\n",
            "Epoch 400, Train Loss: 0.0000, Val Loss: 0.3396\n",
            "Epoch 410, Train Loss: 0.0000, Val Loss: 0.3396\n",
            "Epoch 420, Train Loss: 0.0000, Val Loss: 0.3396\n",
            "Epoch 430, Train Loss: 0.0000, Val Loss: 0.3396\n",
            "Epoch 440, Train Loss: 0.0000, Val Loss: 0.3396\n",
            "Epoch 450, Train Loss: 0.0000, Val Loss: 0.3396\n",
            "Epoch 460, Train Loss: 0.0000, Val Loss: 0.3396\n",
            "Epoch 470, Train Loss: 0.0000, Val Loss: 0.3396\n",
            "Epoch 480, Train Loss: 0.0000, Val Loss: 0.3396\n",
            "Epoch 490, Train Loss: 0.0000, Val Loss: 0.3396\n",
            "Epoch 500, Train Loss: 0.0000, Val Loss: 0.3396\n",
            "训练完成。\n"
          ]
        }
      ]
    },
    {
      "cell_type": "markdown",
      "source": [
        "# 评估模型"
      ],
      "metadata": {
        "id": "LVBlmIBNUHTd"
      }
    },
    {
      "cell_type": "code",
      "source": [
        "# 加载最佳模型参数\n",
        "model.load_state_dict(torch.load('best_rgcn_model.pth'))\n",
        "model.eval()"
      ],
      "metadata": {
        "colab": {
          "base_uri": "https://localhost:8080/"
        },
        "id": "3cZR5YGRaNF2",
        "outputId": "c1587567-f590-4419-84f8-772ab51322b1"
      },
      "execution_count": 31,
      "outputs": [
        {
          "output_type": "stream",
          "name": "stderr",
          "text": [
            "<ipython-input-31-daf7d36f2742>:2: FutureWarning: You are using `torch.load` with `weights_only=False` (the current default value), which uses the default pickle module implicitly. It is possible to construct malicious pickle data which will execute arbitrary code during unpickling (See https://github.com/pytorch/pytorch/blob/main/SECURITY.md#untrusted-models for more details). In a future release, the default value for `weights_only` will be flipped to `True`. This limits the functions that could be executed during unpickling. Arbitrary objects will no longer be allowed to be loaded via this mode unless they are explicitly allowlisted by the user via `torch.serialization.add_safe_globals`. We recommend you start setting `weights_only=True` for any use case where you don't have full control of the loaded file. Please open an issue on GitHub for any issues related to this experimental feature.\n",
            "  model.load_state_dict(torch.load('best_rgcn_model.pth'))\n"
          ]
        },
        {
          "output_type": "execute_result",
          "data": {
            "text/plain": [
              "RGCN(\n",
              "  (conv1): RGCNConv(9, 16, num_relations=9)\n",
              "  (conv2): RGCNConv(16, 1, num_relations=9)\n",
              ")"
            ]
          },
          "metadata": {},
          "execution_count": 31
        }
      ]
    },
    {
      "cell_type": "code",
      "source": [
        "with torch.no_grad():\n",
        "    predictions = model(data)\n",
        "\n",
        "    # 损失计算\n",
        "    test_loss = criterion(predictions[data.test_mask], data.y[data.test_mask])\n",
        "    print(f'Test Loss: {test_loss.item():.4f}')\n",
        "\n",
        "    # 转换为numpy数组\n",
        "    preds = predictions[data.test_mask].numpy().flatten()\n",
        "    targets = data.y[data.test_mask].numpy().flatten()\n",
        "\n",
        "    # 计算MSE和R²\n",
        "    mse = mean_squared_error(targets, preds)\n",
        "    r2 = r2_score(targets, preds)\n",
        "    print(f'Test MSE: {mse:.4f}, Test R²: {r2:.4f}')\n",
        "\n",
        "    # 绘制真实值与预测值对比\n",
        "    plt.figure(figsize=(8,6))\n",
        "    plt.scatter(targets, preds, alpha=0.7)\n",
        "    plt.xlabel('真实协同度')\n",
        "    plt.ylabel('预测协同度')\n",
        "    plt.title('测试集：真实值 vs 预测值')\n",
        "    plt.plot([targets.min(), targets.max()], [targets.min(), targets.max()], 'r--')\n",
        "    plt.show()"
      ],
      "metadata": {
        "colab": {
          "base_uri": "https://localhost:8080/",
          "height": 0
        },
        "id": "V5ly73vrUKL8",
        "outputId": "0a3b116e-a569-435d-a8e9-ec6a8db7011e"
      },
      "execution_count": 32,
      "outputs": [
        {
          "output_type": "stream",
          "name": "stdout",
          "text": [
            "Test Loss: 0.4223\n",
            "Test MSE: 0.4223, Test R²: -213.0601\n"
          ]
        },
        {
          "output_type": "stream",
          "name": "stderr",
          "text": [
            "/usr/local/lib/python3.10/dist-packages/IPython/core/pylabtools.py:151: UserWarning: Glyph 39044 (\\N{CJK UNIFIED IDEOGRAPH-9884}) missing from current font.\n",
            "  fig.canvas.print_figure(bytes_io, **kw)\n",
            "/usr/local/lib/python3.10/dist-packages/IPython/core/pylabtools.py:151: UserWarning: Glyph 27979 (\\N{CJK UNIFIED IDEOGRAPH-6D4B}) missing from current font.\n",
            "  fig.canvas.print_figure(bytes_io, **kw)\n",
            "/usr/local/lib/python3.10/dist-packages/IPython/core/pylabtools.py:151: UserWarning: Glyph 21327 (\\N{CJK UNIFIED IDEOGRAPH-534F}) missing from current font.\n",
            "  fig.canvas.print_figure(bytes_io, **kw)\n",
            "/usr/local/lib/python3.10/dist-packages/IPython/core/pylabtools.py:151: UserWarning: Glyph 21516 (\\N{CJK UNIFIED IDEOGRAPH-540C}) missing from current font.\n",
            "  fig.canvas.print_figure(bytes_io, **kw)\n",
            "/usr/local/lib/python3.10/dist-packages/IPython/core/pylabtools.py:151: UserWarning: Glyph 24230 (\\N{CJK UNIFIED IDEOGRAPH-5EA6}) missing from current font.\n",
            "  fig.canvas.print_figure(bytes_io, **kw)\n",
            "/usr/local/lib/python3.10/dist-packages/IPython/core/pylabtools.py:151: UserWarning: Glyph 35797 (\\N{CJK UNIFIED IDEOGRAPH-8BD5}) missing from current font.\n",
            "  fig.canvas.print_figure(bytes_io, **kw)\n",
            "/usr/local/lib/python3.10/dist-packages/IPython/core/pylabtools.py:151: UserWarning: Glyph 38598 (\\N{CJK UNIFIED IDEOGRAPH-96C6}) missing from current font.\n",
            "  fig.canvas.print_figure(bytes_io, **kw)\n",
            "/usr/local/lib/python3.10/dist-packages/IPython/core/pylabtools.py:151: UserWarning: Glyph 65306 (\\N{FULLWIDTH COLON}) missing from current font.\n",
            "  fig.canvas.print_figure(bytes_io, **kw)\n",
            "/usr/local/lib/python3.10/dist-packages/IPython/core/pylabtools.py:151: UserWarning: Glyph 30495 (\\N{CJK UNIFIED IDEOGRAPH-771F}) missing from current font.\n",
            "  fig.canvas.print_figure(bytes_io, **kw)\n",
            "/usr/local/lib/python3.10/dist-packages/IPython/core/pylabtools.py:151: UserWarning: Glyph 23454 (\\N{CJK UNIFIED IDEOGRAPH-5B9E}) missing from current font.\n",
            "  fig.canvas.print_figure(bytes_io, **kw)\n",
            "/usr/local/lib/python3.10/dist-packages/IPython/core/pylabtools.py:151: UserWarning: Glyph 20540 (\\N{CJK UNIFIED IDEOGRAPH-503C}) missing from current font.\n",
            "  fig.canvas.print_figure(bytes_io, **kw)\n"
          ]
        },
        {
          "output_type": "display_data",
          "data": {
            "text/plain": [
              "<Figure size 800x600 with 1 Axes>"
            ],
            "image/png": "[encoded data removed]"
          },
          "metadata": {}
        }
      ]
    },
    {
      "cell_type": "markdown",
      "source": [
        "# 可解释性说明"
      ],
      "metadata": {
        "id": "EO97I_RSVCru"
      }
    },
    {
      "cell_type": "code",
      "source": [
        "import torch\n",
        "print(f\"PyTorch Version: {torch.__version__}\")\n",
        "print(f\"CUDA Available: {torch.cuda.is_available()}\")\n",
        "if torch.cuda.is_available():\n",
        "    print(f\"CUDA Version: {torch.version.cuda}\")\n",
        "    print(f\"GPU Device Name: {torch.cuda.get_device_name(0)}\")"
      ],
      "metadata": {
        "colab": {
          "base_uri": "https://localhost:8080/"
        },
        "id": "RtjpT7encS9y",
        "outputId": "f16afe52-a5af-443e-d1d0-ff5bc9eb1004"
      },
      "execution_count": 36,
      "outputs": [
        {
          "output_type": "stream",
          "name": "stdout",
          "text": [
            "PyTorch Version: 2.5.1+cu121\n",
            "CUDA Available: False\n"
          ]
        }
      ]
    },
    {
      "cell_type": "code",
      "source": [
        "!pip install torch-geometric==2.3.0 -f https://pytorch-geometric.com/whl/torch-2.0.0+cu118.html"
      ],
      "metadata": {
        "colab": {
          "base_uri": "https://localhost:8080/"
        },
        "collapsed": true,
        "id": "3S2Lh7-kbeqf",
        "outputId": "44a4a3e6-c5e2-4765-dd30-96b8cd035801"
      },
      "execution_count": 1,
      "outputs": [
        {
          "output_type": "stream",
          "name": "stdout",
          "text": [
            "Looking in links: https://pytorch-geometric.com/whl/torch-2.0.0+cu118.html\n",
            "Requirement already satisfied: torch-geometric==2.3.0 in /usr/local/lib/python3.10/dist-packages (2.3.0)\n",
            "Requirement already satisfied: tqdm in /usr/local/lib/python3.10/dist-packages (from torch-geometric==2.3.0) (4.67.1)\n",
            "Requirement already satisfied: numpy in /usr/local/lib/python3.10/dist-packages (from torch-geometric==2.3.0) (1.26.4)\n",
            "Requirement already satisfied: scipy in /usr/local/lib/python3.10/dist-packages (from torch-geometric==2.3.0) (1.13.1)\n",
            "Requirement already satisfied: jinja2 in /usr/local/lib/python3.10/dist-packages (from torch-geometric==2.3.0) (3.1.4)\n",
            "Requirement already satisfied: requests in /usr/local/lib/python3.10/dist-packages (from torch-geometric==2.3.0) (2.32.3)\n",
            "Requirement already satisfied: pyparsing in /usr/local/lib/python3.10/dist-packages (from torch-geometric==2.3.0) (3.2.0)\n",
            "Requirement already satisfied: scikit-learn in /usr/local/lib/python3.10/dist-packages (from torch-geometric==2.3.0) (1.6.0)\n",
            "Requirement already satisfied: psutil>=5.8.0 in /usr/local/lib/python3.10/dist-packages (from torch-geometric==2.3.0) (5.9.5)\n",
            "Requirement already satisfied: MarkupSafe>=2.0 in /usr/local/lib/python3.10/dist-packages (from jinja2->torch-geometric==2.3.0) (3.0.2)\n",
            "Requirement already satisfied: charset-normalizer<4,>=2 in /usr/local/lib/python3.10/dist-packages (from requests->torch-geometric==2.3.0) (3.4.0)\n",
            "Requirement already satisfied: idna<4,>=2.5 in /usr/local/lib/python3.10/dist-packages (from requests->torch-geometric==2.3.0) (3.10)\n",
            "Requirement already satisfied: urllib3<3,>=1.21.1 in /usr/local/lib/python3.10/dist-packages (from requests->torch-geometric==2.3.0) (2.2.3)\n",
            "Requirement already satisfied: certifi>=2017.4.17 in /usr/local/lib/python3.10/dist-packages (from requests->torch-geometric==2.3.0) (2024.12.14)\n",
            "Requirement already satisfied: joblib>=1.2.0 in /usr/local/lib/python3.10/dist-packages (from scikit-learn->torch-geometric==2.3.0) (1.4.2)\n",
            "Requirement already satisfied: threadpoolctl>=3.1.0 in /usr/local/lib/python3.10/dist-packages (from scikit-learn->torch-geometric==2.3.0) (3.5.0)\n"
          ]
        }
      ]
    },
    {
      "cell_type": "code",
      "source": [
        "# 9. 使用 GNNExplainer 进行节点解释\n",
        "from torch_geometric.nn import GNNExplainer\n",
        "\n",
        "# 初始化解释器\n",
        "explainer = GNNExplainer(model, epochs=200)\n",
        "\n",
        "# 选择一个节点进行解释\n",
        "node_idx = 0  # 修改为您感兴趣的节点索引\n",
        "\n",
        "# 生成解释\n",
        "node_feat_mask, edge_mask = explainer.explain_node(\n",
        "    node_idx,\n",
        "    data.x,\n",
        "    data.edge_index,\n",
        "    edge_type=data.edge_type,\n",
        "    edge_attr=data.edge_attr\n",
        ")\n",
        "\n",
        "# 可视化特征重要性\n",
        "plt.figure(figsize=(10, 6))\n",
        "plt.bar(feature_columns, node_feat_mask.detach().numpy())\n",
        "plt.xlabel('特征')\n",
        "plt.ylabel('重要性权重')\n",
        "plt.title(f'节点 {node_idx} 的特征重要性')\n",
        "plt.xticks(rotation=45)\n",
        "plt.tight_layout()\n",
        "plt.show()\n",
        "\n",
        "# 可视化重要边\n",
        "# 首先，构建 NetworkX 图\n",
        "G = nx.from_edgelist(weights_all[['from_idx', 'to_idx']].values)\n",
        "\n",
        "# 获取节点位置\n",
        "pos = nx.spring_layout(G, seed=42)\n",
        "\n",
        "# 根据边掩码设置边颜色和宽度\n",
        "edge_colors = ['red' if edge_mask[i] > edge_mask.median() else 'gray' for i in range(len(edge_mask))]\n",
        "edge_widths = [2 if edge_mask[i] > edge_mask.median() else 0.5 for i in range(len(edge_mask))]\n",
        "\n",
        "# 设置节点颜色，突出显示目标节点\n",
        "node_colors = ['skyblue' if i != node_idx else 'orange' for i in range(data.num_nodes)]\n",
        "\n",
        "plt.figure(figsize=(12, 12))\n",
        "nx.draw_networkx_nodes(G, pos, node_size=300, node_color=node_colors)\n",
        "nx.draw_networkx_edges(G, pos, edge_color=edge_colors, width=edge_widths, alpha=0.7)\n",
        "nx.draw_networkx_labels(G, pos, font_size=8)\n",
        "\n",
        "plt.title(f'节点 {node_idx} 的重要边网络图')\n",
        "plt.axis('off')\n",
        "plt.show()"
      ],
      "metadata": {
        "id": "OVJLPESFgOUG"
      },
      "execution_count": null,
      "outputs": []
    }
  ]
}