{
  "nbformat": 4,
  "nbformat_minor": 0,
  "metadata": {
    "colab": {
      "provenance": [],
      "collapsed_sections": [
        "bXZVYa3VRJcW",
        "wflPodzTRUlH",
        "EjoU3D20S0Ba",
        "IZjhu_6XT-CE",
        "LVBlmIBNUHTd"
      ],
      "gpuType": "T4",
      "authorship_tag": "ABX9TyNtFsfj2DoL/rfgocdcm2+i",
      "include_colab_link": true
    },
    "kernelspec": {
      "name": "python3",
      "display_name": "Python 3"
    },
    "language_info": {
      "name": "python"
    },
    "accelerator": "GPU"
  },
  "cells": [
    {
      "cell_type": "markdown",
      "metadata": {
        "id": "view-in-github",
        "colab_type": "text"
      },
      "source": [
        "<a href=\"https://colab.research.google.com/github/ManGuo1130/Synergistic-effect-evaluation/blob/main/R_GCN.ipynb\" target=\"_parent\"><img src=\"https://colab.research.google.com/assets/colab-badge.svg\" alt=\"Open In Colab\"/></a>"
      ]
    },
    {
      "cell_type": "code",
      "execution_count": null,
      "metadata": {
        "collapsed": true,
        "id": "C_O5RcP6NDFa"
      },
      "outputs": [],
      "source": [
        "pip install torch torch-geometric pandas scikit-learn"
      ]
    },
    {
      "cell_type": "markdown",
      "source": [
        "# 数据准备"
      ],
      "metadata": {
        "id": "dBPzNY86OAd2"
      }
    },
    {
      "cell_type": "markdown",
      "source": [
        "##处理节点数据"
      ],
      "metadata": {
        "id": "bXZVYa3VRJcW"
      }
    },
    {
      "cell_type": "code",
      "source": [
        "import pandas as pd\n",
        "import torch\n",
        "from sklearn.preprocessing import LabelEncoder, StandardScaler\n",
        "from torch_geometric.data import Data\n",
        "import torch.nn.functional as F\n",
        "from torch_geometric.nn import RGCNConv\n",
        "import torch.optim as optim\n",
        "import matplotlib.pyplot as plt\n",
        "from sklearn.metrics import mean_squared_error, r2_score\n",
        "import numpy as np\n",
        "\n",
        "# 加载节点特征\n",
        "node_features = pd.read_csv(\"/content/node_features.csv\")\n",
        "weights_all = pd.read_csv(\"/content/weights_all.csv\")\n",
        "\n",
        "# 查看数据结构\n",
        "print(node_features.head())\n",
        "print(weights_all.head())"
      ],
      "metadata": {
        "colab": {
          "base_uri": "https://localhost:8080/"
        },
        "id": "dbMzjJ7CN3Jf",
        "outputId": "bda5148e-925d-43a3-ca59-ffa816fb427f"
      },
      "execution_count": 55,
      "outputs": [
        {
          "output_type": "stream",
          "name": "stdout",
          "text": [
            "   Unnamed: 0   地市        lat         lon       协同度  常住人口  城市建设用地占市区.面积比重  \\\n",
            "0           1  安庆市  30.576049  116.486728  0.549207   417           15.68   \n",
            "1           2  常州市  31.625341  119.637182  0.784272   528            9.62   \n",
            "2           3  池州市  30.284429  117.365321  0.660851   134            1.61   \n",
            "3           4  滁州市  32.544120  118.102548  0.739916   399            6.55   \n",
            "4           5  杭州市  29.900238  119.469934  0.729286  1197            7.38   \n",
            "\n",
            "   地区生产总值  人均地区生产总值  第二产业占地区生产总值的比重  第三产业占地区生产总值的比重  工业企业数  专利授权数  绿化覆盖率  \\\n",
            "0    2468     58684           43.23           47.04   1644   5479  39.49   \n",
            "1    7805    147939           46.33           51.57   5065  41321  43.30   \n",
            "2     869     64843           44.07           45.80    539   2374  46.13   \n",
            "3    3032     76087           48.75           42.28   1870   8654  42.30   \n",
            "4   16106    136617           29.93           68.04   5992  92399  43.36   \n",
            "\n",
            "   OBJECTID  \n",
            "0         1  \n",
            "1         2  \n",
            "2         3  \n",
            "3         4  \n",
            "4         5  \n",
            "   Unnamed: 0  from  to relation   weights\n",
            "0           1     1   3      pop  0.273386\n",
            "1           2     1   4      pop  0.011664\n",
            "2           3     1   5      pop  0.000000\n",
            "3           4     1   6      pop  0.173853\n",
            "4           5     1  10      pop  0.075575\n"
          ]
        }
      ]
    },
    {
      "cell_type": "code",
      "source": [
        "# 编码节点ID为整数索引\n",
        "le = LabelEncoder()\n",
        "node_features['ID_encoded'] = le.fit_transform(node_features['OBJECTID'])\n",
        "\n",
        "# 创建ID到索引的映射\n",
        "id_to_index = {id_: idx for idx, id_ in enumerate(node_features['OBJECTID'])}"
      ],
      "metadata": {
        "id": "QNkTyYUlOaj1"
      },
      "execution_count": 56,
      "outputs": []
    },
    {
      "cell_type": "code",
      "source": [
        "print(id_to_index)"
      ],
      "metadata": {
        "colab": {
          "base_uri": "https://localhost:8080/"
        },
        "id": "voY6c3bxPJDO",
        "outputId": "9481dcb5-2f86-46c7-903d-8a261c4ff9be"
      },
      "execution_count": 57,
      "outputs": [
        {
          "output_type": "stream",
          "name": "stdout",
          "text": [
            "{1: 0, 2: 1, 3: 2, 4: 3, 5: 4, 6: 5, 7: 6, 8: 7, 9: 8, 10: 9, 11: 10, 12: 11, 13: 12, 14: 13, 15: 14, 16: 15, 17: 16, 18: 17, 19: 18, 20: 19, 21: 20, 22: 21, 23: 22, 24: 23, 25: 24, 26: 25, 27: 26}\n"
          ]
        }
      ]
    },
    {
      "cell_type": "code",
      "source": [
        "# 准备节点特征矩阵\n",
        "feature_columns = [\n",
        "    '常住人口', '城市建设用地占市区.面积比重', '地区生产总值',\n",
        "    '人均地区生产总值', '第二产业占地区生产总值的比重',\n",
        "    '第三产业占地区生产总值的比重', '工业企业数', '专利授权数',\n",
        "    '绿化覆盖率'\n",
        "]"
      ],
      "metadata": {
        "id": "uCMQdSGyP1dE"
      },
      "execution_count": 58,
      "outputs": []
    },
    {
      "cell_type": "code",
      "source": [
        "X = node_features[feature_columns].values\n",
        "scaler = StandardScaler()\n",
        "X = scaler.fit_transform(X)\n",
        "X = torch.tensor(X, dtype=torch.float)"
      ],
      "metadata": {
        "id": "rsUo-C4WQAee"
      },
      "execution_count": 59,
      "outputs": []
    },
    {
      "cell_type": "code",
      "source": [
        "print(X)"
      ],
      "metadata": {
        "colab": {
          "base_uri": "https://localhost:8080/"
        },
        "id": "oBATwlEeQk58",
        "outputId": "eb8c8d25-28ac-4835-e28a-1561ba76ea18"
      },
      "execution_count": 60,
      "outputs": [
        {
          "output_type": "stream",
          "name": "stdout",
          "text": [
            "tensor([[-0.4836,  0.5847, -0.6946, -1.5759, -0.0449, -0.6489, -0.8534, -0.9024,\n",
            "         -1.5415],\n",
            "        [-0.2507, -0.2169, -0.0059,  1.1647,  0.4802, -0.0193,  0.3622,  0.0792,\n",
            "          0.1763],\n",
            "        [-1.0775, -1.2764, -0.9010, -1.3868,  0.0974, -0.8213, -1.2461, -0.9874,\n",
            "          1.4523],\n",
            "        [-0.5214, -0.6230, -0.6219, -1.0415,  0.8901, -1.3106, -0.7731, -0.8154,\n",
            "         -0.2745],\n",
            "        [ 1.1533, -0.5132,  1.0653,  0.8171, -2.2975,  2.2701,  0.6916,  1.4780,\n",
            "          0.2034],\n",
            "        [ 0.6077,  3.0939,  0.2833, -0.0485, -1.3304,  1.2999, -0.6736,  0.0719,\n",
            "         -0.4143],\n",
            "        [-0.6515, -0.4325, -0.6001, -0.4430,  1.0357, -0.7907, -0.0902, -0.5674,\n",
            "          1.5425],\n",
            "        [-0.2234,  0.3069, -0.3021, -0.2293,  1.4270, -0.8171,  0.8238, -0.0949,\n",
            "         -0.8967],\n",
            "        [ 0.1229, -0.7923, -0.4061, -1.3105, -0.8358,  0.8884,  0.2073,  0.1100,\n",
            "         -0.6172],\n",
            "        [-0.9054,  0.2064, -0.7309, -0.2762,  0.7343, -0.5641, -1.0347, -0.8380,\n",
            "          1.5199],\n",
            "        [ 0.5972,  0.1217,  0.8990,  1.5142, -1.4066,  1.5431, -0.2895,  1.0377,\n",
            "          0.8030],\n",
            "        [ 0.2635, -0.0185,  0.2820,  0.6108,  0.6767, -0.5238,  0.4688, -0.2127,\n",
            "          0.1763],\n",
            "        [ 0.6181, -0.0820,  0.5882,  0.6942,  0.4057, -0.0457,  1.6080,  0.6050,\n",
            "         -0.3061],\n",
            "        [ 3.8626,  2.4722,  3.9810,  1.4061, -2.8632,  2.9804,  1.6908,  2.7756,\n",
            "         -2.5199],\n",
            "        [-0.2486, -0.4007, -0.2387,  0.1148,  0.2871, -0.0762,  0.1831, -0.0782,\n",
            "          0.5461],\n",
            "        [ 1.3170, -0.1362,  1.5897,  1.4880,  0.5141,  0.1086,  2.7909,  2.7504,\n",
            "          0.0862],\n",
            "        [ 0.0326, -0.4259, -0.3340, -0.9248,  0.0280, -0.1360,  0.2009, -0.0986,\n",
            "          0.4424],\n",
            "        [-0.4102, -0.3002, -0.3275,  0.2314,  0.7343, -0.7379, -0.4210, -0.4948,\n",
            "         -0.1528],\n",
            "        [-1.0838, -0.8452, -0.8836, -1.0519,  0.3261, -0.3765, -1.2624, -0.9872,\n",
            "          1.1998],\n",
            "        [ 0.6538,  1.4895, -0.1265, -1.1742, -0.3802,  0.6563,  0.9517,  0.3771,\n",
            "         -2.2809],\n",
            "        [ 0.2068,  0.9246,  0.5831,  1.7147,  0.5073,  0.1058,  1.0519,  0.6099,\n",
            "          0.2350],\n",
            "        [-0.5927,  0.0900, -0.5288, -0.2163,  0.6987, -0.5058, -0.8062, -0.6902,\n",
            "         -0.8562],\n",
            "        [-0.8341, -1.1719, -0.8057, -1.4034,  0.6225, -1.2453, -0.8790, -0.9067,\n",
            "         -0.4008],\n",
            "        [ 0.0494, -1.0687, -0.2449, -0.6533, -0.5987, -0.3862, -0.3222, -0.4627,\n",
            "          0.3116],\n",
            "        [-0.4018, -0.4867, -0.2327,  0.6994,  0.4345, -0.3960, -0.3577, -0.2723,\n",
            "          0.7940],\n",
            "        [-0.6851,  0.2739, -0.4686,  0.6624,  0.6157, -0.3334, -0.7230, -0.5098,\n",
            "          0.2124],\n",
            "        [-1.1153, -0.7738, -0.8180,  0.6179, -0.7579, -0.1179, -1.2987, -0.9756,\n",
            "          0.5596]])\n"
          ]
        }
      ]
    },
    {
      "cell_type": "code",
      "source": [
        "# 准备目标变量（协同度）\n",
        "y = torch.tensor(node_features['协同度'].values, dtype=torch.float).unsqueeze(1)\n",
        "\n",
        "print(y)"
      ],
      "metadata": {
        "colab": {
          "base_uri": "https://localhost:8080/"
        },
        "id": "FDeSb5i8Q9a5",
        "outputId": "1f0c355f-0b32-40ad-b01e-ef156fdbfe07"
      },
      "execution_count": 61,
      "outputs": [
        {
          "output_type": "stream",
          "name": "stdout",
          "text": [
            "tensor([[0.5492],\n",
            "        [0.7843],\n",
            "        [0.6609],\n",
            "        [0.7399],\n",
            "        [0.7293],\n",
            "        [0.6852],\n",
            "        [0.7373],\n",
            "        [0.7180],\n",
            "        [0.7326],\n",
            "        [0.7303],\n",
            "        [0.8068],\n",
            "        [0.7315],\n",
            "        [0.7429],\n",
            "        [0.8088],\n",
            "        [0.7640],\n",
            "        [0.7647],\n",
            "        [0.7240],\n",
            "        [0.7559],\n",
            "        [0.7059],\n",
            "        [0.6741],\n",
            "        [0.7913],\n",
            "        [0.7221],\n",
            "        [0.7767],\n",
            "        [0.7872],\n",
            "        [0.7936],\n",
            "        [0.7640],\n",
            "        [0.8117]])\n"
          ]
        }
      ]
    },
    {
      "cell_type": "markdown",
      "source": [
        "## 构建图数据结果"
      ],
      "metadata": {
        "id": "wflPodzTRUlH"
      }
    },
    {
      "cell_type": "code",
      "source": [
        "# 映射ID到索引\n",
        "weights_all['from_idx'] = weights_all['from'].map(id_to_index)\n",
        "weights_all['to_idx'] = weights_all['to'].map(id_to_index)"
      ],
      "metadata": {
        "id": "b_ghzhxxRZFr"
      },
      "execution_count": 62,
      "outputs": []
    },
    {
      "cell_type": "code",
      "source": [
        "# 处理关系类型\n",
        "relation_le = LabelEncoder()\n",
        "weights_all['relation_encoded'] = relation_le.fit_transform(weights_all['relation'])"
      ],
      "metadata": {
        "id": "uLJz6b51Rrl-"
      },
      "execution_count": 63,
      "outputs": []
    },
    {
      "cell_type": "code",
      "source": [
        "# 准备边索引和边类型\n",
        "edge_index = torch.tensor(weights_all[['from_idx', 'to_idx']].values, dtype=torch.long).t().contiguous()\n",
        "edge_type = torch.tensor(weights_all['relation_encoded'].values, dtype=torch.long)"
      ],
      "metadata": {
        "id": "34NIWAB2R2kt"
      },
      "execution_count": 64,
      "outputs": []
    },
    {
      "cell_type": "code",
      "source": [
        "# 准备边权重\n",
        "edge_weight = torch.tensor(weights_all['weights'].values, dtype=torch.float)"
      ],
      "metadata": {
        "id": "h63lDzr9R72M"
      },
      "execution_count": 65,
      "outputs": []
    },
    {
      "cell_type": "code",
      "source": [
        "# 创建图数据对象\n",
        "data = Data(x=X, edge_index=edge_index, edge_type=edge_type, edge_attr=edge_weight, y=y)\n",
        "\n",
        "print(data)"
      ],
      "metadata": {
        "colab": {
          "base_uri": "https://localhost:8080/"
        },
        "id": "QrUYDOvpSTKj",
        "outputId": "63f3b863-cd51-45c2-e4fa-003ee9edbf08"
      },
      "execution_count": 66,
      "outputs": [
        {
          "output_type": "stream",
          "name": "stdout",
          "text": [
            "Data(x=[27, 9], edge_index=[2, 4509], edge_attr=[4509], y=[27, 1], edge_type=[4509])\n"
          ]
        }
      ]
    },
    {
      "cell_type": "markdown",
      "source": [
        "# 定义R-GCN模型"
      ],
      "metadata": {
        "id": "EjoU3D20S0Ba"
      }
    },
    {
      "cell_type": "code",
      "source": [
        "import torch.nn.functional as F\n",
        "from torch_geometric.nn import RGCNConv"
      ],
      "metadata": {
        "id": "2-FRvrLvTO90"
      },
      "execution_count": 67,
      "outputs": []
    },
    {
      "cell_type": "code",
      "source": [
        "class RGCN(torch.nn.Module):\n",
        "    def __init__(self, in_channels, hidden_channels, out_channels, num_relations):\n",
        "        super(RGCN, self).__init__()\n",
        "        self.conv1 = RGCNConv(in_channels, hidden_channels, num_relations)\n",
        "        self.conv2 = RGCNConv(hidden_channels, out_channels, num_relations)\n",
        "\n",
        "    def forward(self, data):\n",
        "        x, edge_index, edge_type = data.x, data.edge_index, data.edge_type\n",
        "        x = self.conv1(x, edge_index, edge_type)\n",
        "        x = F.relu(x)\n",
        "        x = self.conv2(x, edge_index, edge_type)\n",
        "        return x"
      ],
      "metadata": {
        "id": "V08iuVNuTRod"
      },
      "execution_count": 68,
      "outputs": []
    },
    {
      "cell_type": "code",
      "source": [
        "# 模型参数\n",
        "in_channels = X.shape[1]\n",
        "hidden_channels = 16\n",
        "out_channels = 1  # 预测协同度\n",
        "num_relations = len(relation_le.classes_)\n",
        "\n",
        "# 实例化模型\n",
        "model = RGCN(in_channels, hidden_channels, out_channels, num_relations)"
      ],
      "metadata": {
        "id": "JUC33i_WTi3l"
      },
      "execution_count": 69,
      "outputs": []
    },
    {
      "cell_type": "markdown",
      "source": [
        "in_channels = X.shape[1]\n",
        "\n",
        "确定输入特征的维度。\n",
        "X 是之前准备好的节点特征张量，形状为 [num_nodes, num_features]。\n",
        "X.shape[1] 获取特征的维度，即num_features，作为in_channels。\n",
        "hidden_channels = 16\n",
        "\n",
        "设置隐藏层的特征维度为16。\n",
        "这是一个经验性选择，可以根据数据和模型表现进行调整。\n",
        "out_channels = 1 # 预测协同度\n",
        "\n",
        "设置输出层的特征维度为1，用于回归任务中预测每个节点的协同度。\n",
        "num_relations = len(relation_le.classes_)\n",
        "\n",
        "确定关系类型的数量。\n",
        "relation_le 是之前定义并拟合的LabelEncoder对象，用于编码边的关系类型。\n",
        "relation_le.classes_ 返回所有的关系类型，每种关系类型对应一个唯一的类别。\n",
        "len(relation_le.classes_) 计算关系类型的总数，作为RGCNConv层中num_relations的参数。\n",
        "model = RGCN(in_channels, hidden_channels, out_channels, num_relations)\n",
        "\n",
        "使用之前定义的RGCN类实例化一个R-GCN模型对象。\n",
        "参数解释：\n",
        "in_channels: 输入特征维度，从节点特征矩阵X中获取。\n",
        "hidden_channels: 隐藏层的特征维度，设置为16。\n",
        "out_channels: 输出特征维度，设置为1，用于回归任务。\n",
        "num_relations: 关系类型的数量，确保模型能区分不同类型的边。"
      ],
      "metadata": {
        "id": "ukGegACpTt34"
      }
    },
    {
      "cell_type": "code",
      "source": [
        "# 定义损失函数和优化器\n",
        "criterion = torch.nn.MSELoss()\n",
        "optimizer = optim.Adam(model.parameters(), lr=0.01)"
      ],
      "metadata": {
        "id": "dpCYqthsZThd"
      },
      "execution_count": 70,
      "outputs": []
    },
    {
      "cell_type": "markdown",
      "source": [
        "# 训练模型"
      ],
      "metadata": {
        "id": "IZjhu_6XT-CE"
      }
    },
    {
      "cell_type": "markdown",
      "source": [
        "## 数据集划分"
      ],
      "metadata": {
        "id": "oGECPB4SZgu2"
      }
    },
    {
      "cell_type": "code",
      "source": [
        "# 设置随机种子以确保可重复性\n",
        "torch.manual_seed(42)\n",
        "np.random.seed(42)\n",
        "\n",
        "# 获取节点数量\n",
        "num_nodes = data.num_nodes\n",
        "\n",
        "# 定义划分比例\n",
        "train_ratio = 0.7\n",
        "val_ratio = 0.15\n",
        "test_ratio = 0.15"
      ],
      "metadata": {
        "id": "4jgBfZ6PZY7J"
      },
      "execution_count": 71,
      "outputs": []
    },
    {
      "cell_type": "code",
      "source": [
        "# 确认比例总和为1\n",
        "assert train_ratio + val_ratio + test_ratio == 1.0, \"划分比例之和必须为1.0\""
      ],
      "metadata": {
        "id": "AsP18G-QZrZk"
      },
      "execution_count": 72,
      "outputs": []
    },
    {
      "cell_type": "code",
      "source": [
        "train_ratio + val_ratio + test_ratio"
      ],
      "metadata": {
        "colab": {
          "base_uri": "https://localhost:8080/"
        },
        "id": "S-ScMd64Zvkn",
        "outputId": "712071f3-b0aa-4576-9f30-8b4a657f0e7a"
      },
      "execution_count": 73,
      "outputs": [
        {
          "output_type": "execute_result",
          "data": {
            "text/plain": [
              "1.0"
            ]
          },
          "metadata": {},
          "execution_count": 73
        }
      ]
    },
    {
      "cell_type": "code",
      "source": [
        "# 生成随机索引\n",
        "indices = np.random.permutation(num_nodes)\n",
        "train_size = int(train_ratio * num_nodes)\n",
        "val_size = int(val_ratio * num_nodes)\n",
        "\n",
        "train_indices = indices[:train_size]\n",
        "val_indices = indices[train_size:train_size + val_size]\n",
        "test_indices = indices[train_size + val_size:]\n",
        "\n",
        "# 创建掩码\n",
        "train_mask = torch.zeros(num_nodes, dtype=torch.bool)\n",
        "val_mask = torch.zeros(num_nodes, dtype=torch.bool)\n",
        "test_mask = torch.zeros(num_nodes, dtype=torch.bool)\n",
        "\n",
        "train_mask[train_indices] = True\n",
        "val_mask[val_indices] = True\n",
        "test_mask[test_indices] = True\n",
        "\n",
        "# 将掩码添加到数据对象中\n",
        "data.train_mask = train_mask\n",
        "data.val_mask = val_mask\n",
        "data.test_mask = test_mask\n",
        "\n",
        "print(f\"训练集节点数: {train_mask.sum().item()}\")\n",
        "print(f\"验证集节点数: {val_mask.sum().item()}\")\n",
        "print(f\"测试集节点数: {test_mask.sum().item()}\")"
      ],
      "metadata": {
        "colab": {
          "base_uri": "https://localhost:8080/"
        },
        "id": "yzN_7HzrZ1KA",
        "outputId": "4ae31734-7f03-4bfe-f2ae-bde9668ba1b0"
      },
      "execution_count": 74,
      "outputs": [
        {
          "output_type": "stream",
          "name": "stdout",
          "text": [
            "训练集节点数: 18\n",
            "验证集节点数: 4\n",
            "测试集节点数: 5\n"
          ]
        }
      ]
    },
    {
      "cell_type": "code",
      "source": [
        "def train(model, data, optimizer, criterion, epochs=100):\n",
        "    best_val_loss = float('inf')\n",
        "    best_model_state = None\n",
        "\n",
        "    for epoch in range(1, epochs + 1):\n",
        "        model.train()\n",
        "        optimizer.zero_grad()\n",
        "\n",
        "        # 前向传播\n",
        "        out = model(data)\n",
        "\n",
        "        # 仅计算训练集的损失\n",
        "        loss = criterion(out[data.train_mask], data.y[data.train_mask])\n",
        "\n",
        "        # 反向传播\n",
        "        loss.backward()\n",
        "        optimizer.step()\n",
        "\n",
        "        # 计算验证集损失\n",
        "        model.eval()\n",
        "        with torch.no_grad():\n",
        "            val_out = model(data)\n",
        "            val_loss = criterion(val_out[data.val_mask], data.y[data.val_mask])\n",
        "\n",
        "        if epoch % 10 == 0 or epoch == 1:\n",
        "            print(f'Epoch {epoch}, Train Loss: {loss.item():.4f}, Val Loss: {val_loss.item():.4f}')\n",
        "\n",
        "        # 保存最佳模型\n",
        "        if val_loss.item() < best_val_loss:\n",
        "            best_val_loss = val_loss.item()\n",
        "            best_model_state = model.state_dict().copy()\n",
        "            torch.save(best_model_state, 'best_rgcn_model.pth')\n",
        "            print(f'最佳模型参数已保存 (Val Loss: {best_val_loss:.4f})')\n",
        "\n",
        "    print(\"训练完成。\")"
      ],
      "metadata": {
        "id": "sSs1VuJ6Tmr1"
      },
      "execution_count": 75,
      "outputs": []
    },
    {
      "cell_type": "code",
      "source": [
        "train(model, data, optimizer, criterion, epochs=500)"
      ],
      "metadata": {
        "colab": {
          "base_uri": "https://localhost:8080/"
        },
        "id": "ph88t_tYaAiL",
        "outputId": "61337772-c1c7-4e50-d8a1-bbc9c67ab0f4"
      },
      "execution_count": 76,
      "outputs": [
        {
          "output_type": "stream",
          "name": "stdout",
          "text": [
            "Epoch 1, Train Loss: 1.1616, Val Loss: 1.7079\n",
            "最佳模型参数已保存 (Val Loss: 1.7079)\n",
            "最佳模型参数已保存 (Val Loss: 1.3155)\n",
            "最佳模型参数已保存 (Val Loss: 1.3151)\n",
            "最佳模型参数已保存 (Val Loss: 1.1096)\n",
            "最佳模型参数已保存 (Val Loss: 0.8242)\n",
            "最佳模型参数已保存 (Val Loss: 0.7011)\n",
            "最佳模型参数已保存 (Val Loss: 0.6751)\n",
            "Epoch 10, Train Loss: 0.1462, Val Loss: 0.5821\n",
            "最佳模型参数已保存 (Val Loss: 0.5821)\n",
            "最佳模型参数已保存 (Val Loss: 0.5447)\n",
            "最佳模型参数已保存 (Val Loss: 0.5383)\n",
            "最佳模型参数已保存 (Val Loss: 0.5197)\n",
            "最佳模型参数已保存 (Val Loss: 0.4977)\n",
            "Epoch 20, Train Loss: 0.0360, Val Loss: 0.4759\n",
            "最佳模型参数已保存 (Val Loss: 0.4759)\n",
            "最佳模型参数已保存 (Val Loss: 0.4617)\n",
            "最佳模型参数已保存 (Val Loss: 0.4502)\n",
            "最佳模型参数已保存 (Val Loss: 0.4335)\n",
            "最佳模型参数已保存 (Val Loss: 0.4185)\n",
            "最佳模型参数已保存 (Val Loss: 0.4149)\n",
            "最佳模型参数已保存 (Val Loss: 0.4128)\n",
            "最佳模型参数已保存 (Val Loss: 0.3954)\n",
            "最佳模型参数已保存 (Val Loss: 0.3748)\n",
            "Epoch 30, Train Loss: 0.0154, Val Loss: 0.3630\n",
            "最佳模型参数已保存 (Val Loss: 0.3630)\n",
            "最佳模型参数已保存 (Val Loss: 0.3623)\n",
            "Epoch 40, Train Loss: 0.0029, Val Loss: 0.3876\n",
            "最佳模型参数已保存 (Val Loss: 0.3592)\n",
            "Epoch 50, Train Loss: 0.0011, Val Loss: 0.3515\n",
            "最佳模型参数已保存 (Val Loss: 0.3515)\n",
            "最佳模型参数已保存 (Val Loss: 0.3468)\n",
            "最佳模型参数已保存 (Val Loss: 0.3450)\n",
            "最佳模型参数已保存 (Val Loss: 0.3439)\n",
            "最佳模型参数已保存 (Val Loss: 0.3434)\n",
            "Epoch 60, Train Loss: 0.0011, Val Loss: 0.3438\n",
            "最佳模型参数已保存 (Val Loss: 0.3401)\n",
            "最佳模型参数已保存 (Val Loss: 0.3375)\n",
            "最佳模型参数已保存 (Val Loss: 0.3362)\n",
            "最佳模型参数已保存 (Val Loss: 0.3362)\n",
            "Epoch 70, Train Loss: 0.0003, Val Loss: 0.3371\n",
            "最佳模型参数已保存 (Val Loss: 0.3362)\n",
            "最佳模型参数已保存 (Val Loss: 0.3361)\n",
            "Epoch 80, Train Loss: 0.0001, Val Loss: 0.3424\n",
            "Epoch 90, Train Loss: 0.0000, Val Loss: 0.3426\n",
            "Epoch 100, Train Loss: 0.0000, Val Loss: 0.3425\n",
            "Epoch 110, Train Loss: 0.0000, Val Loss: 0.3410\n",
            "Epoch 120, Train Loss: 0.0000, Val Loss: 0.3420\n",
            "Epoch 130, Train Loss: 0.0000, Val Loss: 0.3416\n",
            "Epoch 140, Train Loss: 0.0000, Val Loss: 0.3419\n",
            "Epoch 150, Train Loss: 0.0000, Val Loss: 0.3419\n",
            "Epoch 160, Train Loss: 0.0000, Val Loss: 0.3418\n",
            "Epoch 170, Train Loss: 0.0000, Val Loss: 0.3418\n",
            "Epoch 180, Train Loss: 0.0000, Val Loss: 0.3418\n",
            "Epoch 190, Train Loss: 0.0000, Val Loss: 0.3418\n",
            "Epoch 200, Train Loss: 0.0000, Val Loss: 0.3418\n",
            "Epoch 210, Train Loss: 0.0000, Val Loss: 0.3418\n",
            "Epoch 220, Train Loss: 0.0000, Val Loss: 0.3418\n",
            "Epoch 230, Train Loss: 0.0000, Val Loss: 0.3418\n",
            "Epoch 240, Train Loss: 0.0000, Val Loss: 0.3418\n",
            "Epoch 250, Train Loss: 0.0000, Val Loss: 0.3418\n",
            "Epoch 260, Train Loss: 0.0000, Val Loss: 0.3418\n",
            "Epoch 270, Train Loss: 0.0000, Val Loss: 0.3418\n",
            "Epoch 280, Train Loss: 0.0000, Val Loss: 0.3418\n",
            "Epoch 290, Train Loss: 0.0000, Val Loss: 0.3418\n",
            "Epoch 300, Train Loss: 0.0000, Val Loss: 0.3418\n",
            "Epoch 310, Train Loss: 0.0000, Val Loss: 0.3418\n",
            "Epoch 320, Train Loss: 0.0000, Val Loss: 0.3418\n",
            "Epoch 330, Train Loss: 0.0000, Val Loss: 0.3418\n",
            "Epoch 340, Train Loss: 0.0000, Val Loss: 0.3418\n",
            "Epoch 350, Train Loss: 0.0000, Val Loss: 0.3418\n",
            "Epoch 360, Train Loss: 0.0000, Val Loss: 0.3418\n",
            "Epoch 370, Train Loss: 0.0000, Val Loss: 0.3418\n",
            "Epoch 380, Train Loss: 0.0000, Val Loss: 0.3418\n",
            "Epoch 390, Train Loss: 0.0000, Val Loss: 0.3418\n",
            "Epoch 400, Train Loss: 0.0000, Val Loss: 0.3418\n",
            "Epoch 410, Train Loss: 0.0000, Val Loss: 0.3418\n",
            "Epoch 420, Train Loss: 0.0000, Val Loss: 0.3418\n",
            "Epoch 430, Train Loss: 0.0000, Val Loss: 0.3418\n",
            "Epoch 440, Train Loss: 0.0000, Val Loss: 0.3418\n",
            "Epoch 450, Train Loss: 0.0000, Val Loss: 0.3418\n",
            "Epoch 460, Train Loss: 0.0000, Val Loss: 0.3418\n",
            "Epoch 470, Train Loss: 0.0000, Val Loss: 0.3418\n",
            "Epoch 480, Train Loss: 0.0000, Val Loss: 0.3418\n",
            "Epoch 490, Train Loss: 0.0000, Val Loss: 0.3418\n",
            "Epoch 500, Train Loss: 0.0000, Val Loss: 0.3418\n",
            "训练完成。\n"
          ]
        }
      ]
    },
    {
      "cell_type": "markdown",
      "source": [
        "# 评估模型"
      ],
      "metadata": {
        "id": "LVBlmIBNUHTd"
      }
    },
    {
      "cell_type": "code",
      "source": [
        "# 加载最佳模型参数\n",
        "model.load_state_dict(torch.load('best_rgcn_model.pth'))\n",
        "model.eval()"
      ],
      "metadata": {
        "colab": {
          "base_uri": "https://localhost:8080/"
        },
        "id": "3cZR5YGRaNF2",
        "outputId": "a1815be6-d975-4ef8-a558-2494a935b13d"
      },
      "execution_count": 77,
      "outputs": [
        {
          "output_type": "execute_result",
          "data": {
            "text/plain": [
              "RGCN(\n",
              "  (conv1): RGCNConv(9, 16, num_relations=9)\n",
              "  (conv2): RGCNConv(16, 1, num_relations=9)\n",
              ")"
            ]
          },
          "metadata": {},
          "execution_count": 77
        }
      ]
    },
    {
      "cell_type": "code",
      "source": [
        "with torch.no_grad():\n",
        "    predictions = model(data)\n",
        "\n",
        "    # 损失计算\n",
        "    test_loss = criterion(predictions[data.test_mask], data.y[data.test_mask])\n",
        "    print(f'Test Loss: {test_loss.item():.4f}')\n",
        "\n",
        "    # 转换为numpy数组\n",
        "    preds = predictions[data.test_mask].numpy().flatten()\n",
        "    targets = data.y[data.test_mask].numpy().flatten()\n",
        "\n",
        "    # 计算MSE和R²\n",
        "    mse = mean_squared_error(targets, preds)\n",
        "    r2 = r2_score(targets, preds)\n",
        "    print(f'Test MSE: {mse:.4f}, Test R²: {r2:.4f}')\n",
        "\n",
        "    # 绘制真实值与预测值对比\n",
        "    plt.figure(figsize=(8,6))\n",
        "    plt.scatter(targets, preds, alpha=0.7)\n",
        "    plt.xlabel('真实协同度')\n",
        "    plt.ylabel('预测协同度')\n",
        "    plt.title('测试集：真实值 vs 预测值')\n",
        "    plt.plot([targets.min(), targets.max()], [targets.min(), targets.max()], 'r--')\n",
        "    plt.show()"
      ],
      "metadata": {
        "colab": {
          "base_uri": "https://localhost:8080/",
          "height": 980
        },
        "id": "V5ly73vrUKL8",
        "outputId": "8ba9bc98-f3cc-405a-9a0e-f9eb3e6ca480"
      },
      "execution_count": 78,
      "outputs": [
        {
          "output_type": "stream",
          "name": "stdout",
          "text": [
            "Test Loss: 0.1056\n",
            "Test MSE: 0.1056, Test R²: -52.5262\n"
          ]
        },
        {
          "output_type": "stream",
          "name": "stderr",
          "text": [
            "/usr/local/lib/python3.10/dist-packages/IPython/core/pylabtools.py:151: UserWarning: Glyph 39044 (\\N{CJK UNIFIED IDEOGRAPH-9884}) missing from current font.\n",
            "  fig.canvas.print_figure(bytes_io, **kw)\n",
            "/usr/local/lib/python3.10/dist-packages/IPython/core/pylabtools.py:151: UserWarning: Glyph 27979 (\\N{CJK UNIFIED IDEOGRAPH-6D4B}) missing from current font.\n",
            "  fig.canvas.print_figure(bytes_io, **kw)\n",
            "/usr/local/lib/python3.10/dist-packages/IPython/core/pylabtools.py:151: UserWarning: Glyph 21327 (\\N{CJK UNIFIED IDEOGRAPH-534F}) missing from current font.\n",
            "  fig.canvas.print_figure(bytes_io, **kw)\n",
            "/usr/local/lib/python3.10/dist-packages/IPython/core/pylabtools.py:151: UserWarning: Glyph 21516 (\\N{CJK UNIFIED IDEOGRAPH-540C}) missing from current font.\n",
            "  fig.canvas.print_figure(bytes_io, **kw)\n",
            "/usr/local/lib/python3.10/dist-packages/IPython/core/pylabtools.py:151: UserWarning: Glyph 24230 (\\N{CJK UNIFIED IDEOGRAPH-5EA6}) missing from current font.\n",
            "  fig.canvas.print_figure(bytes_io, **kw)\n",
            "/usr/local/lib/python3.10/dist-packages/IPython/core/pylabtools.py:151: UserWarning: Glyph 35797 (\\N{CJK UNIFIED IDEOGRAPH-8BD5}) missing from current font.\n",
            "  fig.canvas.print_figure(bytes_io, **kw)\n",
            "/usr/local/lib/python3.10/dist-packages/IPython/core/pylabtools.py:151: UserWarning: Glyph 38598 (\\N{CJK UNIFIED IDEOGRAPH-96C6}) missing from current font.\n",
            "  fig.canvas.print_figure(bytes_io, **kw)\n",
            "/usr/local/lib/python3.10/dist-packages/IPython/core/pylabtools.py:151: UserWarning: Glyph 65306 (\\N{FULLWIDTH COLON}) missing from current font.\n",
            "  fig.canvas.print_figure(bytes_io, **kw)\n",
            "/usr/local/lib/python3.10/dist-packages/IPython/core/pylabtools.py:151: UserWarning: Glyph 30495 (\\N{CJK UNIFIED IDEOGRAPH-771F}) missing from current font.\n",
            "  fig.canvas.print_figure(bytes_io, **kw)\n",
            "/usr/local/lib/python3.10/dist-packages/IPython/core/pylabtools.py:151: UserWarning: Glyph 23454 (\\N{CJK UNIFIED IDEOGRAPH-5B9E}) missing from current font.\n",
            "  fig.canvas.print_figure(bytes_io, **kw)\n",
            "/usr/local/lib/python3.10/dist-packages/IPython/core/pylabtools.py:151: UserWarning: Glyph 20540 (\\N{CJK UNIFIED IDEOGRAPH-503C}) missing from current font.\n",
            "  fig.canvas.print_figure(bytes_io, **kw)\n"
          ]
        },
        {
          "output_type": "display_data",
          "data": {
            "text/plain": [
              "<Figure size 800x600 with 1 Axes>"
            ],
            "image/png": "[encoded data removed]"
          },
          "metadata": {}
        }
      ]
    },
    {
      "cell_type": "markdown",
      "source": [
        "# 可解释性说明"
      ],
      "metadata": {
        "id": "EO97I_RSVCru"
      }
    },
    {
      "cell_type": "code",
      "source": [
        "import torch\n",
        "from torch_geometric.explain import GNNExplainer, Explanation\n",
        "from torch_geometric.explain.config import (\n",
        "    ModelConfig,\n",
        "    ExplainerConfig,\n",
        "    MaskType\n",
        ")\n",
        "import matplotlib.pyplot as plt\n",
        "import networkx as nx\n",
        "import numpy as np\n",
        "\n",
        "# 配置模型\n",
        "model_config = ModelConfig(\n",
        "    mode='regression',  # 因为是回归任务\n",
        "    task_level='node',  # 节点级任务\n",
        "    return_type='raw'   # 返回原始输出\n",
        ")\n",
        "\n",
        "# 配置解释器\n",
        "explainer_config = ExplainerConfig(\n",
        "    explanation_type='model',  # 直接使用字符串\n",
        "    node_mask_type='attributes',  # 直接使用字符串\n",
        "    edge_mask_type='object'      # 直接使用字符串\n",
        ")\n",
        "\n",
        "# 初始化解释器\n",
        "explainer = GNNExplainer(\n",
        "    model=model,\n",
        "    epochs=100,\n",
        "    lr=0.01\n",
        ")\n",
        "\n",
        "# 连接配置\n",
        "explainer.connect(\n",
        "    model_config=model_config,\n",
        "    explainer_config=explainer_config\n",
        ")\n"
      ],
      "metadata": {
        "id": "bAgZT7spwzO9"
      },
      "execution_count": 111,
      "outputs": []
    },
    {
      "cell_type": "code",
      "source": [
        "explainer = GNNExplainer(\n",
        "    model=model,\n",
        "    epochs=100,\n",
        "    lr=0.01\n",
        ")"
      ],
      "metadata": {
        "id": "BTjl_MDT2-De"
      },
      "execution_count": 131,
      "outputs": []
    },
    {
      "cell_type": "code",
      "source": [
        "def analyze_node(node_idx):\n",
        "    \"\"\"分析单个节点的可解释性\"\"\"\n",
        "    # 生成解释\n",
        "    explanation = explainer(\n",
        "        x=data.x,\n",
        "        edge_index=data.edge_index,\n",
        "        target=node_idx,\n",
        "        model=model,\n",
        "        edge_type=data.edge_type\n",
        "    )\n",
        "\n",
        "    # 打印解释对象的属性\n",
        "    print(\"解释对象包含的属性：\")\n",
        "    for attr in dir(explanation):\n",
        "        if not attr.startswith('_'):\n",
        "            value = getattr(explanation, attr)\n",
        "            if isinstance(value, (torch.Tensor, np.ndarray)):\n",
        "                print(f\"{attr}: shape = {value.shape}\")\n",
        "            else:\n",
        "                print(f\"{attr}: {type(value)}\")\n",
        "\n",
        "    return explanation\n",
        "\n",
        "def visualize_explanation(explanation, node_idx, feature_names):\n",
        "    \"\"\"可视化解释结果\"\"\"\n",
        "    # 1. 特征重要性可视化\n",
        "    if hasattr(explanation, 'node_mask'):\n",
        "        plt.figure(figsize=(10, 6))\n",
        "        feature_imp = explanation.node_mask.detach().cpu().numpy()\n",
        "        if len(feature_imp.shape) > 1:\n",
        "            feature_imp = feature_imp[node_idx]\n",
        "\n",
        "        # 归一化特征重要性\n",
        "        feature_imp = (feature_imp - feature_imp.min()) / (feature_imp.max() - feature_imp.min())\n",
        "\n",
        "        plt.bar(feature_names, feature_imp)\n",
        "        plt.xticks(rotation=45, ha='right')\n",
        "        plt.title(f'节点 {node_idx} 的特征重要性')\n",
        "        plt.tight_layout()\n",
        "        plt.show()\n",
        "\n",
        "    # 2. 边重要性可视化\n",
        "    if hasattr(explanation, 'edge_mask'):\n",
        "        edge_mask = explanation.edge_mask.detach().cpu().numpy()\n",
        "\n",
        "        G = nx.Graph()\n",
        "        edge_index = data.edge_index.cpu().numpy()\n",
        "\n",
        "        # 添加边\n",
        "        for i in range(edge_index.shape[1]):\n",
        "            src, dst = edge_index[0, i], edge_index[1, i]\n",
        "            G.add_edge(int(src), int(dst))\n",
        "\n",
        "        # 设置布局\n",
        "        pos = nx.spring_layout(G)\n",
        "\n",
        "        # 归一化边掩码\n",
        "        edge_mask = (edge_mask - edge_mask.min()) / (edge_mask.max() - edge_mask.min())\n",
        "\n",
        "        # 根据边掩码设置边的颜色和宽度\n",
        "        edge_colors = []\n",
        "        edge_widths = []\n",
        "        threshold = 0.5  # 可以调整这个阈值\n",
        "\n",
        "        for i, (u, v) in enumerate(G.edges()):\n",
        "            if edge_mask[i] > threshold:\n",
        "                edge_colors.append('red')\n",
        "                edge_widths.append(2.0 * edge_mask[i])\n",
        "            else:\n",
        "                edge_colors.append('gray')\n",
        "                edge_widths.append(0.5 * edge_mask[i])\n",
        "\n",
        "        plt.figure(figsize=(12, 12))\n",
        "        nx.draw_networkx_edges(G, pos, edge_color=edge_colors, width=edge_widths)\n",
        "        nx.draw_networkx_nodes(G, pos,\n",
        "                             node_color=['orange' if n == node_idx else 'lightblue'\n",
        "                                       for n in G.nodes()],\n",
        "                             node_size=300)\n",
        "        nx.draw_networkx_labels(G, pos)\n",
        "        plt.title(f'节点 {node_idx} 的邻居重要性')\n",
        "        plt.axis('off')\n",
        "        plt.show()"
      ],
      "metadata": {
        "id": "eik7Q6SzxETq"
      },
      "execution_count": 121,
      "outputs": []
    },
    {
      "cell_type": "code",
      "source": [
        "model.eval()"
      ],
      "metadata": {
        "colab": {
          "base_uri": "https://localhost:8080/"
        },
        "id": "WG5l80DHxMgd",
        "outputId": "ad3c729a-0bfa-40e4-9df1-2face862e25b"
      },
      "execution_count": 117,
      "outputs": [
        {
          "output_type": "execute_result",
          "data": {
            "text/plain": [
              "RGCN(\n",
              "  (conv1): RGCNConv(9, 16, num_relations=9)\n",
              "  (conv2): RGCNConv(16, 1, num_relations=9)\n",
              ")"
            ]
          },
          "metadata": {},
          "execution_count": 117
        }
      ]
    },
    {
      "cell_type": "code",
      "source": [
        "print(model)"
      ],
      "metadata": {
        "colab": {
          "base_uri": "https://localhost:8080/"
        },
        "id": "K9AfwtZ40drd",
        "outputId": "b7777c31-5aa3-4fbc-ec7c-15beb8ce6cdd"
      },
      "execution_count": 118,
      "outputs": [
        {
          "output_type": "stream",
          "name": "stdout",
          "text": [
            "RGCN(\n",
            "  (conv1): RGCNConv(9, 16, num_relations=9)\n",
            "  (conv2): RGCNConv(16, 1, num_relations=9)\n",
            ")\n"
          ]
        }
      ]
    },
    {
      "cell_type": "code",
      "source": [
        "node_idx = 10\n",
        "node_feat_mask, edge_mask = explainer.explain_node(node_idx, x, edge_index)"
      ],
      "metadata": {
        "id": "oXtAKP1w3NWI"
      },
      "execution_count": null,
      "outputs": []
    },
    {
      "cell_type": "code",
      "source": [
        "ax, G = explainer.visualize_subgraph(node_idx, edge_index, train_mask, y=data.y)\n",
        "plt.show()"
      ],
      "metadata": {
        "colab": {
          "base_uri": "https://localhost:8080/",
          "height": 280
        },
        "id": "FrskZo0p3N9D",
        "outputId": "c67b2809-7034-49cd-856c-4dbc414404e4"
      },
      "execution_count": 146,
      "outputs": [
        {
          "output_type": "error",
          "ename": "AttributeError",
          "evalue": "'GNNExplainer' object has no attribute 'visualize_subgraph'",
          "traceback": [
            "\u001b[0;31m---------------------------------------------------------------------------\u001b[0m",
            "\u001b[0;31mAttributeError\u001b[0m                            Traceback (most recent call last)",
            "\u001b[0;32m<ipython-input-146-aa1f28cf89f2>\u001b[0m in \u001b[0;36m<cell line: 1>\u001b[0;34m()\u001b[0m\n\u001b[0;32m----> 1\u001b[0;31m \u001b[0max\u001b[0m\u001b[0;34m,\u001b[0m \u001b[0mG\u001b[0m \u001b[0;34m=\u001b[0m \u001b[0mexplainer\u001b[0m\u001b[0;34m.\u001b[0m\u001b[0mvisualize_subgraph\u001b[0m\u001b[0;34m(\u001b[0m\u001b[0mnode_idx\u001b[0m\u001b[0;34m,\u001b[0m \u001b[0medge_index\u001b[0m\u001b[0;34m,\u001b[0m \u001b[0mtrain_mask\u001b[0m\u001b[0;34m,\u001b[0m \u001b[0my\u001b[0m\u001b[0;34m=\u001b[0m\u001b[0mdata\u001b[0m\u001b[0;34m.\u001b[0m\u001b[0my\u001b[0m\u001b[0;34m)\u001b[0m\u001b[0;34m\u001b[0m\u001b[0;34m\u001b[0m\u001b[0m\n\u001b[0m\u001b[1;32m      2\u001b[0m \u001b[0mplt\u001b[0m\u001b[0;34m.\u001b[0m\u001b[0mshow\u001b[0m\u001b[0;34m(\u001b[0m\u001b[0;34m)\u001b[0m\u001b[0;34m\u001b[0m\u001b[0;34m\u001b[0m\u001b[0m\n",
            "\u001b[0;32m/usr/local/lib/python3.10/dist-packages/torch/nn/modules/module.py\u001b[0m in \u001b[0;36m__getattr__\u001b[0;34m(self, name)\u001b[0m\n\u001b[1;32m   1612\u001b[0m             \u001b[0;32mif\u001b[0m \u001b[0mname\u001b[0m \u001b[0;32min\u001b[0m \u001b[0mmodules\u001b[0m\u001b[0;34m:\u001b[0m\u001b[0;34m\u001b[0m\u001b[0;34m\u001b[0m\u001b[0m\n\u001b[1;32m   1613\u001b[0m                 \u001b[0;32mreturn\u001b[0m \u001b[0mmodules\u001b[0m\u001b[0;34m[\u001b[0m\u001b[0mname\u001b[0m\u001b[0;34m]\u001b[0m\u001b[0;34m\u001b[0m\u001b[0;34m\u001b[0m\u001b[0m\n\u001b[0;32m-> 1614\u001b[0;31m         raise AttributeError(\"'{}' object has no attribute '{}'\".format(\n\u001b[0m\u001b[1;32m   1615\u001b[0m             type(self).__name__, name))\n\u001b[1;32m   1616\u001b[0m \u001b[0;34m\u001b[0m\u001b[0m\n",
            "\u001b[0;31mAttributeError\u001b[0m: 'GNNExplainer' object has no attribute 'visualize_subgraph'"
          ]
        }
      ]
    }
  ]
}